{
  "nbformat": 4,
  "nbformat_minor": 0,
  "metadata": {
    "colab": {
      "name": "handelingfiles.ipynb",
      "provenance": [],
      "collapsed_sections": []
    },
    "kernelspec": {
      "name": "python3",
      "display_name": "Python 3"
    },
    "language_info": {
      "name": "python"
    }
  },
  "cells": [
    {
      "cell_type": "code",
      "metadata": {
        "id": "5TZc1yqd3tQr"
      },
      "source": [
        "#question 1\n",
        "f=open('python.txt','r',encoding='utf-8')\n",
        "f.read()"
      ],
      "execution_count": null,
      "outputs": []
    },
    {
      "cell_type": "code",
      "metadata": {
        "id": "CSNhkc6g4gDY"
      },
      "source": [
        "#question 2\n",
        "f=open('python.txt','r',encoding='utf-8')\n",
        "n=int(input())\n",
        "\n",
        "for i in range (n):\n",
        "  line=f.readline()\n",
        "  print(line)"
      ],
      "execution_count": null,
      "outputs": []
    },
    {
      "cell_type": "code",
      "metadata": {
        "id": "LU0oZKhq7nON"
      },
      "source": [
        "#question 3\n",
        "f=open('python.txt','r',encoding='utf-8')\n",
        "n=int(input())\n",
        "lines= f.readlines()\n",
        "lastlines=lines[-n:]\n",
        "print(lastlines)"
      ],
      "execution_count": null,
      "outputs": []
    },
    {
      "cell_type": "code",
      "metadata": {
        "id": "bzW6zyuWAGzB"
      },
      "source": [
        "#question 4\n",
        "f=open('python.txt','r',encoding='utf-8')\n",
        "fil=f.read()\n",
        "words=fil.split(' ')\n",
        "print(len(words))\n",
        "f.close()"
      ],
      "execution_count": null,
      "outputs": []
    }
  ]
}